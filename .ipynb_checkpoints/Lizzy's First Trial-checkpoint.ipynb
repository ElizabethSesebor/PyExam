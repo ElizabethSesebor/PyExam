{
 "cells": [
  {
   "cell_type": "code",
   "execution_count": 1,
   "id": "56376c45",
   "metadata": {},
   "outputs": [
    {
     "name": "stdout",
     "output_type": "stream",
     "text": [
      "3.10.4 (tags/v3.10.4:9d38120, Mar 23 2022, 23:13:41) [MSC v.1929 64 bit (AMD64)]\n"
     ]
    }
   ],
   "source": [
    "import sys\n",
    "print(sys.version)"
   ]
  },
  {
   "cell_type": "code",
   "execution_count": 2,
   "id": "77d8be19",
   "metadata": {},
   "outputs": [
    {
     "name": "stdout",
     "output_type": "stream",
     "text": [
      "hello python\n"
     ]
    }
   ],
   "source": [
    "print(\"hello python\")"
   ]
  },
  {
   "cell_type": "code",
   "execution_count": 3,
   "id": "eb55bba9",
   "metadata": {},
   "outputs": [
    {
     "data": {
      "text/plain": [
       "2.0"
      ]
     },
     "execution_count": 3,
     "metadata": {},
     "output_type": "execute_result"
    }
   ],
   "source": [
    "float(2)"
   ]
  },
  {
   "cell_type": "code",
   "execution_count": 4,
   "id": "0959cf58",
   "metadata": {},
   "outputs": [
    {
     "data": {
      "text/plain": [
       "1"
      ]
     },
     "execution_count": 4,
     "metadata": {},
     "output_type": "execute_result"
    }
   ],
   "source": [
    "int(1.1)"
   ]
  },
  {
   "cell_type": "code",
   "execution_count": 5,
   "id": "0c5d38ed",
   "metadata": {},
   "outputs": [
    {
     "data": {
      "text/plain": [
       "10"
      ]
     },
     "execution_count": 5,
     "metadata": {},
     "output_type": "execute_result"
    }
   ],
   "source": [
    "int(\"10\")"
   ]
  },
  {
   "cell_type": "code",
   "execution_count": 6,
   "id": "442a7368",
   "metadata": {},
   "outputs": [
    {
     "data": {
      "text/plain": [
       "'1'"
      ]
     },
     "execution_count": 6,
     "metadata": {},
     "output_type": "execute_result"
    }
   ],
   "source": [
    "str(1)"
   ]
  },
  {
   "cell_type": "code",
   "execution_count": 7,
   "id": "c699635b",
   "metadata": {},
   "outputs": [
    {
     "data": {
      "text/plain": [
       "'4.5'"
      ]
     },
     "execution_count": 7,
     "metadata": {},
     "output_type": "execute_result"
    }
   ],
   "source": [
    "str(4.5)"
   ]
  },
  {
   "cell_type": "code",
   "execution_count": 8,
   "id": "1497b025",
   "metadata": {},
   "outputs": [
    {
     "data": {
      "text/plain": [
       "1"
      ]
     },
     "execution_count": 8,
     "metadata": {},
     "output_type": "execute_result"
    }
   ],
   "source": [
    "int(True)"
   ]
  },
  {
   "cell_type": "code",
   "execution_count": 9,
   "id": "2d8fcfbb",
   "metadata": {},
   "outputs": [
    {
     "data": {
      "text/plain": [
       "0"
      ]
     },
     "execution_count": 9,
     "metadata": {},
     "output_type": "execute_result"
    }
   ],
   "source": [
    "int(False)"
   ]
  },
  {
   "cell_type": "code",
   "execution_count": 10,
   "id": "ab98c207",
   "metadata": {},
   "outputs": [
    {
     "data": {
      "text/plain": [
       "True"
      ]
     },
     "execution_count": 10,
     "metadata": {},
     "output_type": "execute_result"
    }
   ],
   "source": [
    "bool(1)"
   ]
  },
  {
   "cell_type": "code",
   "execution_count": 11,
   "id": "061de14d",
   "metadata": {},
   "outputs": [
    {
     "data": {
      "text/plain": [
       "False"
      ]
     },
     "execution_count": 11,
     "metadata": {},
     "output_type": "execute_result"
    }
   ],
   "source": [
    "bool(0)"
   ]
  },
  {
   "cell_type": "code",
   "execution_count": 12,
   "id": "91bbdff4",
   "metadata": {},
   "outputs": [
    {
     "data": {
      "text/plain": [
       "4.166666666666667"
      ]
     },
     "execution_count": 12,
     "metadata": {},
     "output_type": "execute_result"
    }
   ],
   "source": [
    "25/6"
   ]
  },
  {
   "cell_type": "code",
   "execution_count": 13,
   "id": "ccc2faad",
   "metadata": {},
   "outputs": [
    {
     "data": {
      "text/plain": [
       "4"
      ]
     },
     "execution_count": 13,
     "metadata": {},
     "output_type": "execute_result"
    }
   ],
   "source": [
    "25//6"
   ]
  },
  {
   "cell_type": "code",
   "execution_count": 14,
   "id": "5a69a0e1",
   "metadata": {},
   "outputs": [
    {
     "data": {
      "text/plain": [
       "160"
      ]
     },
     "execution_count": 14,
     "metadata": {},
     "output_type": "execute_result"
    }
   ],
   "source": [
    "43+60+16+41"
   ]
  },
  {
   "cell_type": "code",
   "execution_count": 15,
   "id": "b03e7880",
   "metadata": {},
   "outputs": [
    {
     "data": {
      "text/plain": [
       "150"
      ]
     },
     "execution_count": 15,
     "metadata": {},
     "output_type": "execute_result"
    }
   ],
   "source": [
    "2*60+30"
   ]
  },
  {
   "cell_type": "code",
   "execution_count": 16,
   "id": "092fe6a4",
   "metadata": {},
   "outputs": [
    {
     "data": {
      "text/plain": [
       "150"
      ]
     },
     "execution_count": 16,
     "metadata": {},
     "output_type": "execute_result"
    }
   ],
   "source": [
    "30+2*60"
   ]
  },
  {
   "cell_type": "code",
   "execution_count": 19,
   "id": "36e5bac5",
   "metadata": {},
   "outputs": [
    {
     "name": "stdout",
     "output_type": "stream",
     "text": [
      "2.6666666666666665\n"
     ]
    }
   ],
   "source": [
    "x=160\n",
    "y=x/60\n",
    "print(y)"
   ]
  },
  {
   "cell_type": "code",
   "execution_count": 20,
   "id": "c1ed30d4",
   "metadata": {},
   "outputs": [
    {
     "data": {
      "text/plain": [
       "int"
      ]
     },
     "execution_count": 20,
     "metadata": {},
     "output_type": "execute_result"
    }
   ],
   "source": [
    "type(x)"
   ]
  },
  {
   "cell_type": "code",
   "execution_count": 21,
   "id": "e87eb330",
   "metadata": {},
   "outputs": [
    {
     "name": "stdout",
     "output_type": "stream",
     "text": [
      "practice makes perfect\n"
     ]
    }
   ],
   "source": [
    "# practice on writing comments\n",
    "print(\"practice makes perfect\")"
   ]
  },
  {
   "cell_type": "code",
   "execution_count": 22,
   "id": "2fcf8944",
   "metadata": {},
   "outputs": [
    {
     "data": {
      "text/plain": [
       "float"
      ]
     },
     "execution_count": 22,
     "metadata": {},
     "output_type": "execute_result"
    }
   ],
   "source": [
    "type(float(2))"
   ]
  },
  {
   "cell_type": "code",
   "execution_count": 26,
   "id": "d4a12492",
   "metadata": {},
   "outputs": [],
   "source": [
    "name=(\"michael jackson\")\n",
    "statement= name + \"is the best\""
   ]
  },
  {
   "cell_type": "markdown",
   "id": "713e60f5",
   "metadata": {},
   "source": [
    "3 * \"michael jackson\""
   ]
  },
  {
   "cell_type": "code",
   "execution_count": 27,
   "id": "3e664089",
   "metadata": {},
   "outputs": [
    {
     "name": "stdout",
     "output_type": "stream",
     "text": [
      "michael jackson \\ is the best\n"
     ]
    }
   ],
   "source": [
    "print(\"michael jackson \\\\ is the best\")"
   ]
  },
  {
   "cell_type": "code",
   "execution_count": 28,
   "id": "d409a1de",
   "metadata": {},
   "outputs": [
    {
     "name": "stdout",
     "output_type": "stream",
     "text": [
      "michael jackson \n",
      " is the best\n"
     ]
    }
   ],
   "source": [
    "print(\"michael jackson \\n is the best\")"
   ]
  },
  {
   "cell_type": "code",
   "execution_count": 29,
   "id": "cfb77fc8",
   "metadata": {},
   "outputs": [
    {
     "name": "stdout",
     "output_type": "stream",
     "text": [
      "michael jackson \t is the best\n"
     ]
    }
   ],
   "source": [
    "print(\"michael jackson \\t is the best\")"
   ]
  },
  {
   "cell_type": "code",
   "execution_count": 31,
   "id": "80042519",
   "metadata": {},
   "outputs": [],
   "source": [
    "name = \"michael jackson\"\n",
    "statement = name+\"is the best\""
   ]
  },
  {
   "cell_type": "code",
   "execution_count": 32,
   "id": "38c6ab3d",
   "metadata": {},
   "outputs": [
    {
     "data": {
      "text/plain": [
       "15"
      ]
     },
     "execution_count": 32,
     "metadata": {},
     "output_type": "execute_result"
    }
   ],
   "source": [
    "len(\"michael jackson\")"
   ]
  },
  {
   "cell_type": "code",
   "execution_count": 33,
   "id": "6450e570",
   "metadata": {},
   "outputs": [
    {
     "data": {
      "text/plain": [
       "'mich'"
      ]
     },
     "execution_count": 33,
     "metadata": {},
     "output_type": "execute_result"
    }
   ],
   "source": [
    "name=\"michael jackson\"\n",
    "name[0:4]"
   ]
  },
  {
   "cell_type": "code",
   "execution_count": 34,
   "id": "83b09ebc",
   "metadata": {},
   "outputs": [
    {
     "data": {
      "text/plain": [
       "'michael jacksonmichael jacksonmichael jackson'"
      ]
     },
     "execution_count": 34,
     "metadata": {},
     "output_type": "execute_result"
    }
   ],
   "source": [
    "3*\"michael jackson\""
   ]
  },
  {
   "cell_type": "code",
   "execution_count": 35,
   "id": "afa263d3",
   "metadata": {},
   "outputs": [
    {
     "data": {
      "text/plain": [
       "'michaeljacksonmichaeljacksonmichaeljackson'"
      ]
     },
     "execution_count": 35,
     "metadata": {},
     "output_type": "execute_result"
    }
   ],
   "source": [
    "3*\"michaeljackson\""
   ]
  },
  {
   "cell_type": "code",
   "execution_count": 36,
   "id": "72f03ee3",
   "metadata": {},
   "outputs": [
    {
     "data": {
      "text/plain": [
       "'THRILLER IS THE SIXTH STUDIO ALBUM'"
      ]
     },
     "execution_count": 36,
     "metadata": {},
     "output_type": "execute_result"
    }
   ],
   "source": [
    "a= \"thriller is the sixth studio album\"\n",
    "a.upper()"
   ]
  },
  {
   "cell_type": "code",
   "execution_count": 38,
   "id": "1bc1e40d",
   "metadata": {},
   "outputs": [
    {
     "data": {
      "text/plain": [
       "'janet is the sixth studio album'"
      ]
     },
     "execution_count": 38,
     "metadata": {},
     "output_type": "execute_result"
    }
   ],
   "source": [
    "a= \"thriller is the sixth studio album\"\n",
    "a.replace('thriller', 'janet')"
   ]
  },
  {
   "cell_type": "code",
   "execution_count": 39,
   "id": "93365171",
   "metadata": {},
   "outputs": [
    {
     "data": {
      "text/plain": [
       "5"
      ]
     },
     "execution_count": 39,
     "metadata": {},
     "output_type": "execute_result"
    }
   ],
   "source": [
    "name=\"michael jackson\"\n",
    "name.find('el')"
   ]
  },
  {
   "cell_type": "code",
   "execution_count": 40,
   "id": "a5492a46",
   "metadata": {},
   "outputs": [
    {
     "data": {
      "text/plain": [
       "8"
      ]
     },
     "execution_count": 40,
     "metadata": {},
     "output_type": "execute_result"
    }
   ],
   "source": [
    "name=\"michael jackson\"\n",
    "name.find('jack')"
   ]
  },
  {
   "cell_type": "code",
   "execution_count": 42,
   "id": "a1053d1d",
   "metadata": {},
   "outputs": [
    {
     "data": {
      "text/plain": [
       "'thriller is the sixth studio album'"
      ]
     },
     "execution_count": 42,
     "metadata": {},
     "output_type": "execute_result"
    }
   ],
   "source": [
    "a= \"thriller is the sixth studio album\"\n",
    "a.lower()"
   ]
  },
  {
   "cell_type": "code",
   "execution_count": 43,
   "id": "890a1841",
   "metadata": {},
   "outputs": [
    {
     "data": {
      "text/plain": [
       "'disco'"
      ]
     },
     "execution_count": 43,
     "metadata": {},
     "output_type": "execute_result"
    }
   ],
   "source": [
    "food= ('disco', 10, 12.1)\n",
    "food[0]"
   ]
  },
  {
   "cell_type": "code",
   "execution_count": 44,
   "id": "e9ba5462",
   "metadata": {},
   "outputs": [
    {
     "data": {
      "text/plain": [
       "12.1"
      ]
     },
     "execution_count": 44,
     "metadata": {},
     "output_type": "execute_result"
    }
   ],
   "source": [
    "food[2]"
   ]
  },
  {
   "cell_type": "code",
   "execution_count": 47,
   "id": "4f7a0fc4",
   "metadata": {},
   "outputs": [],
   "source": [
    "food= ('disco', 10, 12.1)\n",
    "foodie=food+('hard rock', 10)"
   ]
  },
  {
   "cell_type": "code",
   "execution_count": 49,
   "id": "0f1f3331",
   "metadata": {},
   "outputs": [
    {
     "name": "stdout",
     "output_type": "stream",
     "text": [
      "(1, 2, ('pop', 'rock'), (3, 4), ('disco', (1, 2)))\n"
     ]
    }
   ],
   "source": [
    "NT= (1,2,('pop','rock'), (3,4),('disco', (1,2)))\n",
    "print(NT)"
   ]
  },
  {
   "cell_type": "code",
   "execution_count": 50,
   "id": "9da00475",
   "metadata": {},
   "outputs": [
    {
     "data": {
      "text/plain": [
       "('pop', 'rock')"
      ]
     },
     "execution_count": 50,
     "metadata": {},
     "output_type": "execute_result"
    }
   ],
   "source": [
    "NT[2]"
   ]
  },
  {
   "cell_type": "code",
   "execution_count": 51,
   "id": "6839e825",
   "metadata": {},
   "outputs": [
    {
     "data": {
      "text/plain": [
       "(1, 2, ('pop', 'rock'), (3, 4))"
      ]
     },
     "execution_count": 51,
     "metadata": {},
     "output_type": "execute_result"
    }
   ],
   "source": [
    "NT[0:4]"
   ]
  },
  {
   "cell_type": "code",
   "execution_count": 56,
   "id": "1db5cb6b",
   "metadata": {},
   "outputs": [],
   "source": [
    "Ratings= [10,9,6,5,10,8,9,6,2]\n",
    "Rating_Sorted = sorted(Ratings)"
   ]
  },
  {
   "cell_type": "code",
   "execution_count": 60,
   "id": "6881b6ea",
   "metadata": {},
   "outputs": [],
   "source": [
    "NT= [1,2,('pop','rock'), (3,4),('disco', (1,2))]\n",
    "NT.extend(['she', 0])"
   ]
  },
  {
   "cell_type": "code",
   "execution_count": 59,
   "id": "6de3eccc",
   "metadata": {},
   "outputs": [
    {
     "data": {
      "text/plain": [
       "['A', 'B', 'C', 'D']"
      ]
     },
     "execution_count": 59,
     "metadata": {},
     "output_type": "execute_result"
    }
   ],
   "source": [
    "\"A,B,C,D\".split(',')"
   ]
  },
  {
   "cell_type": "code",
   "execution_count": 61,
   "id": "1d6529ef",
   "metadata": {},
   "outputs": [
    {
     "data": {
      "text/plain": [
       "['hard rock', 10, 1.2]"
      ]
     },
     "execution_count": 61,
     "metadata": {},
     "output_type": "execute_result"
    }
   ],
   "source": [
    "a=['hard rock', 10, 1.2]\n",
    "a[:]"
   ]
  },
  {
   "cell_type": "code",
   "execution_count": null,
   "id": "eb7bf6ef",
   "metadata": {},
   "outputs": [],
   "source": [
    "a.index['disco']"
   ]
  },
  {
   "cell_type": "code",
   "execution_count": 6,
   "id": "cdb3640b",
   "metadata": {},
   "outputs": [
    {
     "name": "stdout",
     "output_type": "stream",
     "text": [
      "x= 50.0 y= 40.0\n"
     ]
    }
   ],
   "source": [
    "x,y= 40,50\n",
    "x= x*y\n",
    "y= x/y\n",
    "x= x/y\n",
    "print('x=', x, 'y=',y)"
   ]
  },
  {
   "cell_type": "code",
   "execution_count": 8,
   "id": "6331db49-3bc2-471f-9f47-25a5bddba4a6",
   "metadata": {},
   "outputs": [
    {
     "ename": "ZeroDivisionError",
     "evalue": "division by zero",
     "output_type": "error",
     "traceback": [
      "\u001b[1;31m---------------------------------------------------------------------------\u001b[0m",
      "\u001b[1;31mZeroDivisionError\u001b[0m                         Traceback (most recent call last)",
      "\u001b[1;32m~\\AppData\\Local\\Temp\\ipykernel_21480\\998918162.py\u001b[0m in \u001b[0;36m<module>\u001b[1;34m\u001b[0m\n\u001b[1;32m----> 1\u001b[1;33m \u001b[0mx\u001b[0m\u001b[1;33m=\u001b[0m \u001b[1;36m7\u001b[0m\u001b[1;33m/\u001b[0m\u001b[0mint\u001b[0m\u001b[1;33m(\u001b[0m\u001b[1;36m7\u001b[0m\u001b[1;33m!=\u001b[0m\u001b[1;36m7\u001b[0m\u001b[1;33m)\u001b[0m\u001b[1;33m\u001b[0m\u001b[1;33m\u001b[0m\u001b[0m\n\u001b[0m",
      "\u001b[1;31mZeroDivisionError\u001b[0m: division by zero"
     ]
    }
   ],
   "source": [
    "x= 7/int(7!=7)"
   ]
  },
  {
   "cell_type": "code",
   "execution_count": 10,
   "id": "ce93f617-10bd-4a62-877a-a87895631264",
   "metadata": {},
   "outputs": [
    {
     "name": "stdout",
     "output_type": "stream",
     "text": [
      "110 190\n"
     ]
    }
   ],
   "source": [
    "a, b= 100, 200\n",
    "b, a, b= a, b-10, a+10\n",
    "print(b, a)"
   ]
  },
  {
   "cell_type": "code",
   "execution_count": 14,
   "id": "43c7c884-007b-4b5b-a21d-525951ff0f6b",
   "metadata": {},
   "outputs": [
    {
     "name": "stdout",
     "output_type": "stream",
     "text": [
      "Priyanka - B Positive\n"
     ]
    }
   ],
   "source": [
    "class Reeta:\n",
    "    name= \"Reeta\"\n",
    "    blood_group= \"B Positive\"\n",
    "    \n",
    "class Priyanka(Reeta):\n",
    "    name=\"Priyanka\"\n",
    "person= Priyanka()\n",
    "print(person.name, \"-\", person.blood_group)\n",
    "    "
   ]
  },
  {
   "cell_type": "code",
   "execution_count": 15,
   "id": "c240a6bf-f762-42fd-85ef-18cca07d4c2c",
   "metadata": {},
   "outputs": [],
   "source": [
    "import numpy as np"
   ]
  },
  {
   "cell_type": "code",
   "execution_count": 20,
   "id": "99d114c4-a8d8-45b2-8859-4fa1f9dc5e7a",
   "metadata": {},
   "outputs": [
    {
     "data": {
      "text/plain": [
       "array([[11, 46,  1],\n",
       "       [47, 79,  5],\n",
       "       [22, 14, 30],\n",
       "       [75, 78, 57],\n",
       "       [10, 35, 10],\n",
       "       [37,  8, 20]])"
      ]
     },
     "execution_count": 20,
     "metadata": {},
     "output_type": "execute_result"
    }
   ],
   "source": [
    "a= np.random.randint(1, 100, size=(6, 3))\n",
    "a"
   ]
  },
  {
   "cell_type": "code",
   "execution_count": 21,
   "id": "919a02e8-f632-440b-9d90-43460efc4acf",
   "metadata": {},
   "outputs": [
    {
     "data": {
      "text/plain": [
       "array([[ 0,  0,  0,  2,  3,  5,  1,  2,  2,  7,  8,  9,  3,  2, 12, 10,\n",
       "         6, 11, 15,  0, 16,  1,  7, 21,  7, 11,  3, 10, 15, 27,  7, 31,\n",
       "        27, 23, 24, 26, 26, 35, 35, 32, 11,  8, 25, 34,  5, 36, 13, 22,\n",
       "        38, 39,  7, 46, 39, 29, 46, 34, 55, 35,  7,  1,  8, 47, 48, 12,\n",
       "         9, 23, 27, 11, 63, 32, 24, 15, 26, 38, 11, 25, 12, 17, 40, 25,\n",
       "        18, 13,  7, 45, 46,  2, 65, 23, 21, 52, 59, 64, 48,  2,  0, 51,\n",
       "         7, 27, 18]])"
      ]
     },
     "execution_count": 21,
     "metadata": {},
     "output_type": "execute_result"
    }
   ],
   "source": [
    "a= np.random.randint([range(1, 100)])\n",
    "a"
   ]
  },
  {
   "cell_type": "code",
   "execution_count": 32,
   "id": "aad502a3-9275-4aa2-b648-a73286e16b64",
   "metadata": {},
   "outputs": [],
   "source": [
    "a= np.random.shuffle([range(100)])\n",
    "a"
   ]
  },
  {
   "cell_type": "code",
   "execution_count": 34,
   "id": "ac6d3c1e-ae03-456a-b74a-a0cdcadfcefa",
   "metadata": {},
   "outputs": [],
   "source": [
    "import sys"
   ]
  },
  {
   "cell_type": "code",
   "execution_count": 37,
   "id": "98839643-96c6-4e89-adf9-41a21121ff0a",
   "metadata": {},
   "outputs": [
    {
     "data": {
      "text/plain": [
       "28"
      ]
     },
     "execution_count": 37,
     "metadata": {},
     "output_type": "execute_result"
    }
   ],
   "source": [
    "sys.getsizeof(100)"
   ]
  },
  {
   "cell_type": "code",
   "execution_count": 39,
   "id": "14be7891-6e5d-401b-986b-d7de427a4bc6",
   "metadata": {},
   "outputs": [
    {
     "data": {
      "text/plain": [
       "72"
      ]
     },
     "execution_count": 39,
     "metadata": {},
     "output_type": "execute_result"
    }
   ],
   "source": [
    "sys.getsizeof(10**100)"
   ]
  },
  {
   "cell_type": "code",
   "execution_count": 41,
   "id": "e878a95f-d840-4c5d-b2cb-59b03ddffd2a",
   "metadata": {},
   "outputs": [
    {
     "data": {
      "text/plain": [
       "4"
      ]
     },
     "execution_count": 41,
     "metadata": {},
     "output_type": "execute_result"
    }
   ],
   "source": [
    "np.dtype(int).itemsize"
   ]
  },
  {
   "cell_type": "code",
   "execution_count": 47,
   "id": "521d5cd4-c462-47c1-b283-2d538d7c8bb0",
   "metadata": {},
   "outputs": [],
   "source": [
    "from collections import defaultdict"
   ]
  },
  {
   "cell_type": "code",
   "execution_count": 48,
   "id": "d67cb932-bf12-4115-8e31-99f6f8eeb8df",
   "metadata": {},
   "outputs": [
    {
     "name": "stdout",
     "output_type": "stream",
     "text": [
      "{'FL': [{'username': 'johndoe', 'state': 'FL'}, {'username': 'bobdoe', 'state': 'FL'}], 'CA': [{'username': 'marydoe', 'state': 'CA'}]}\n"
     ]
    }
   ],
   "source": [
    "users= [\n",
    "    {\"username\": \"johndoe\", \"state\": \"FL\"},\n",
    "    {\"username\": \"marydoe\", \"state\": \"CA\"},\n",
    "    {\"username\": \"bobdoe\", \"state\": \"FL\"},\n",
    "]\n",
    "\n",
    "users_by_state= {}\n",
    "\n",
    "for user in users:\n",
    "    if user[\"state\"] not in users_by_state:\n",
    "        users_by_state[user[\"state\"]]= []\n",
    "        \n",
    "    users_by_state[user[\"state\"]].append(user)\n",
    "    \n",
    "print (users_by_state)"
   ]
  },
  {
   "cell_type": "code",
   "execution_count": 49,
   "id": "6259b374-3301-48b4-962d-31ee70740cf1",
   "metadata": {},
   "outputs": [
    {
     "name": "stdout",
     "output_type": "stream",
     "text": [
      "{'FL': [{'username': 'johndoe', 'state': 'FL'}], 'CA': [{'username': 'marydoe', 'state': 'CA'}]}\n"
     ]
    }
   ],
   "source": [
    "users_by_state= defaultdict(list)\n",
    "\n",
    "for user in users:\n",
    "    if user[\"state\"] not in users_by_state:\n",
    "        users_by_state[user[\"state\"]].append(user)\n",
    "    \n",
    "print (dict(users_by_state))"
   ]
  },
  {
   "cell_type": "code",
   "execution_count": 2,
   "id": "0fae7d44-3b14-4ef3-8f6f-548ecdb7d2c6",
   "metadata": {},
   "outputs": [
    {
     "name": "stdout",
     "output_type": "stream",
     "text": [
      "['A', 'B', 'C', 'D']\n"
     ]
    }
   ],
   "source": [
    "s= 'A$B$C$D'\n",
    "print(s.rsplit('$'))"
   ]
  },
  {
   "cell_type": "code",
   "execution_count": 3,
   "id": "8ed5aadf-e81a-4785-b341-b5c0d0e41cbd",
   "metadata": {},
   "outputs": [
    {
     "name": "stdout",
     "output_type": "stream",
     "text": [
      "[2, 4, 6]\n"
     ]
    }
   ],
   "source": [
    "num_roman= {1:'I', 2:'II', 3:'III', 4:'IV', 5:'V', 6:'VI'}\n",
    "num= []\n",
    "for k,v, in num_roman.items():\n",
    "    if len(v)==2:\n",
    "        num.append(k)\n",
    "print(num)"
   ]
  },
  {
   "cell_type": "code",
   "execution_count": 5,
   "id": "98df5a48",
   "metadata": {},
   "outputs": [
    {
     "name": "stdout",
     "output_type": "stream",
     "text": [
      "5\n"
     ]
    }
   ],
   "source": [
    "arr=[3,3,2,2,1,1]\n",
    "for item in arr:\n",
    "    if item==2:\n",
    "        arr.remove(item)\n",
    "\n",
    "print(len(arr))"
   ]
  },
  {
   "cell_type": "code",
   "execution_count": null,
   "id": "99daf24b",
   "metadata": {},
   "outputs": [],
   "source": []
  }
 ],
 "metadata": {
  "kernelspec": {
   "display_name": "Python 3 (ipykernel)",
   "language": "python",
   "name": "python3"
  },
  "language_info": {
   "codemirror_mode": {
    "name": "ipython",
    "version": 3
   },
   "file_extension": ".py",
   "mimetype": "text/x-python",
   "name": "python",
   "nbconvert_exporter": "python",
   "pygments_lexer": "ipython3",
   "version": "3.9.13"
  }
 },
 "nbformat": 4,
 "nbformat_minor": 5
}
